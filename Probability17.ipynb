{
  "nbformat": 4,
  "nbformat_minor": 0,
  "metadata": {
    "colab": {
      "provenance": [],
      "toc_visible": true,
      "authorship_tag": "ABX9TyNoAMukoijjOqZ2/TRM3Oby",
      "include_colab_link": true
    },
    "kernelspec": {
      "name": "python3",
      "display_name": "Python 3"
    },
    "language_info": {
      "name": "python"
    }
  },
  "cells": [
    {
      "cell_type": "markdown",
      "metadata": {
        "id": "view-in-github",
        "colab_type": "text"
      },
      "source": [
        "<a href=\"https://colab.research.google.com/github/Giteshkc/Hotel-booking-demand-Data-Analysis/blob/main/Probability17.ipynb\" target=\"_parent\"><img src=\"https://colab.research.google.com/assets/colab-badge.svg\" alt=\"Open In Colab\"/></a>"
      ]
    },
    {
      "cell_type": "markdown",
      "source": [
        "## Probablity for Data Science/ML along with me"
      ],
      "metadata": {
        "id": "2dkv6LapiciI"
      }
    },
    {
      "cell_type": "markdown",
      "source": [
        "# Random variables:\n",
        "Random vairables are all the possible outcomes of a particular\n",
        "experiment.\n",
        "\n",
        "---\n",
        "\n",
        "For example:In a coin toss, the random variables are {Head, Tail}"
      ],
      "metadata": {
        "id": "QtkoMnzxi_z9"
      }
    },
    {
      "cell_type": "markdown",
      "source": [
        "\n",
        "Probability distribution:\n",
        "---\n",
        "\n"
      ],
      "metadata": {
        "id": "psfx8W0qjlFt"
      }
    },
    {
      "cell_type": "markdown",
      "source": [
        "It describes how the probablity are distributed over the values of the random variable.\n",
        "For the above example, the probability is distrubted as {1/2,1/2}"
      ],
      "metadata": {
        "id": "SHZmD1LGiV3j"
      }
    },
    {
      "cell_type": "markdown",
      "source": [
        "# Proability Distribution Function\n",
        "It is the mathematical function that describes the probalility of obtaining different values of a random variable in a particular probalility distribution."
      ],
      "metadata": {
        "id": "y-XyncBilRMQ"
      }
    },
    {
      "cell_type": "markdown",
      "source": [
        "# Types of Probaility Distribution Function\n",
        "  1. Probability Mass Function\n",
        "  2. Probalility Density Function\n",
        "  3.Cumulative Density Function\n"
      ],
      "metadata": {
        "id": "howlhs5Ml9ht"
      }
    },
    {
      "cell_type": "markdown",
      "source": [
        "#Probability Mass Function\n",
        "It is a mathematical function that describes the probalility distribution of a discrete random variable.\n",
        "# Condition of PMF\n",
        "1. The sum of probablitly of all the possible random variable is equal to 1\n",
        "2. Probability assigned to each value must be positive(+ve)."
      ],
      "metadata": {
        "id": "Bk5doxUYmi6u"
      }
    },
    {
      "cell_type": "markdown",
      "source": [
        "# Implementing PMF\n",
        "\n",
        "Suppose we roll the dice for 10000 times. Lets calculate the Probalility distrubution of each random variable\n",
        "\n",
        "Total outcome=6\n",
        "Probalility for a random value=1/6"
      ],
      "metadata": {
        "id": "3tWTJn5lnuph"
      }
    },
    {
      "cell_type": "code",
      "source": [
        "#importing necessary libraries\n",
        "from numpy import random\n",
        "import numpy as np\n",
        "import pandas as pd\n",
        "import matplotlib.pyplot as plt\n",
        "import seaborn as sns"
      ],
      "metadata": {
        "id": "DK4g_puznves"
      },
      "execution_count": null,
      "outputs": []
    },
    {
      "cell_type": "code",
      "source": [
        "# We created a list and store all the random value from 1-6 in that list.\n",
        "list=[]\n",
        "for i in range(10000):\n",
        "  list.append(random.randint(1,7))\n"
      ],
      "metadata": {
        "id": "YsKKaXYgoy9g"
      },
      "execution_count": null,
      "outputs": []
    },
    {
      "cell_type": "code",
      "source": [
        "len(list)"
      ],
      "metadata": {
        "colab": {
          "base_uri": "https://localhost:8080/"
        },
        "id": "-VHJ1Je-pDiJ",
        "outputId": "6dac876a-2713-411f-8a98-d76b8969a85b"
      },
      "execution_count": null,
      "outputs": [
        {
          "output_type": "execute_result",
          "data": {
            "text/plain": [
              "10000"
            ]
          },
          "metadata": {},
          "execution_count": 7
        }
      ]
    },
    {
      "cell_type": "code",
      "source": [
        "# We creates a series where each values represent how often the random value occured.\n",
        "pd.Series(list).value_counts()"
      ],
      "metadata": {
        "colab": {
          "base_uri": "https://localhost:8080/",
          "height": 272
        },
        "id": "RWKdek8TpUqc",
        "outputId": "e8292a6c-fc67-4eda-dcf5-22a45a02b50b"
      },
      "execution_count": null,
      "outputs": [
        {
          "output_type": "execute_result",
          "data": {
            "text/plain": [
              "5    1717\n",
              "6    1698\n",
              "2    1684\n",
              "3    1637\n",
              "1    1634\n",
              "4    1630\n",
              "Name: count, dtype: int64"
            ],
            "text/html": [
              "<div>\n",
              "<style scoped>\n",
              "    .dataframe tbody tr th:only-of-type {\n",
              "        vertical-align: middle;\n",
              "    }\n",
              "\n",
              "    .dataframe tbody tr th {\n",
              "        vertical-align: top;\n",
              "    }\n",
              "\n",
              "    .dataframe thead th {\n",
              "        text-align: right;\n",
              "    }\n",
              "</style>\n",
              "<table border=\"1\" class=\"dataframe\">\n",
              "  <thead>\n",
              "    <tr style=\"text-align: right;\">\n",
              "      <th></th>\n",
              "      <th>count</th>\n",
              "    </tr>\n",
              "  </thead>\n",
              "  <tbody>\n",
              "    <tr>\n",
              "      <th>5</th>\n",
              "      <td>1717</td>\n",
              "    </tr>\n",
              "    <tr>\n",
              "      <th>6</th>\n",
              "      <td>1698</td>\n",
              "    </tr>\n",
              "    <tr>\n",
              "      <th>2</th>\n",
              "      <td>1684</td>\n",
              "    </tr>\n",
              "    <tr>\n",
              "      <th>3</th>\n",
              "      <td>1637</td>\n",
              "    </tr>\n",
              "    <tr>\n",
              "      <th>1</th>\n",
              "      <td>1634</td>\n",
              "    </tr>\n",
              "    <tr>\n",
              "      <th>4</th>\n",
              "      <td>1630</td>\n",
              "    </tr>\n",
              "  </tbody>\n",
              "</table>\n",
              "</div><br><label><b>dtype:</b> int64</label>"
            ]
          },
          "metadata": {},
          "execution_count": 12
        }
      ]
    },
    {
      "cell_type": "code",
      "source": [
        "# We calculated the probability for the random variable\n",
        "p=(pd.Series(list).value_counts()/pd.Series(list).value_counts().sum()).sort_index()\n",
        "p"
      ],
      "metadata": {
        "colab": {
          "base_uri": "https://localhost:8080/",
          "height": 272
        },
        "id": "FWznZymTpjMs",
        "outputId": "b80a7dc9-91f0-41d0-d251-40cf65ef9746"
      },
      "execution_count": null,
      "outputs": [
        {
          "output_type": "execute_result",
          "data": {
            "text/plain": [
              "1    0.1739\n",
              "2    0.1622\n",
              "3    0.1624\n",
              "4    0.1645\n",
              "5    0.1684\n",
              "6    0.1686\n",
              "Name: count, dtype: float64"
            ],
            "text/html": [
              "<div>\n",
              "<style scoped>\n",
              "    .dataframe tbody tr th:only-of-type {\n",
              "        vertical-align: middle;\n",
              "    }\n",
              "\n",
              "    .dataframe tbody tr th {\n",
              "        vertical-align: top;\n",
              "    }\n",
              "\n",
              "    .dataframe thead th {\n",
              "        text-align: right;\n",
              "    }\n",
              "</style>\n",
              "<table border=\"1\" class=\"dataframe\">\n",
              "  <thead>\n",
              "    <tr style=\"text-align: right;\">\n",
              "      <th></th>\n",
              "      <th>count</th>\n",
              "    </tr>\n",
              "  </thead>\n",
              "  <tbody>\n",
              "    <tr>\n",
              "      <th>1</th>\n",
              "      <td>0.1739</td>\n",
              "    </tr>\n",
              "    <tr>\n",
              "      <th>2</th>\n",
              "      <td>0.1622</td>\n",
              "    </tr>\n",
              "    <tr>\n",
              "      <th>3</th>\n",
              "      <td>0.1624</td>\n",
              "    </tr>\n",
              "    <tr>\n",
              "      <th>4</th>\n",
              "      <td>0.1645</td>\n",
              "    </tr>\n",
              "    <tr>\n",
              "      <th>5</th>\n",
              "      <td>0.1684</td>\n",
              "    </tr>\n",
              "    <tr>\n",
              "      <th>6</th>\n",
              "      <td>0.1686</td>\n",
              "    </tr>\n",
              "  </tbody>\n",
              "</table>\n",
              "</div><br><label><b>dtype:</b> float64</label>"
            ]
          },
          "metadata": {},
          "execution_count": 25
        }
      ]
    },
    {
      "cell_type": "code",
      "source": [
        "p.plot(kind=\"bar\")\n",
        "plt.xlabel(\"random variable\")\n",
        "plt.ylabel(\"probability\")\n"
      ],
      "metadata": {
        "colab": {
          "base_uri": "https://localhost:8080/",
          "height": 461
        },
        "id": "ehBHi8RAqEHl",
        "outputId": "d9bf730c-4f99-40f7-c17c-7038873e2189"
      },
      "execution_count": null,
      "outputs": [
        {
          "output_type": "execute_result",
          "data": {
            "text/plain": [
              "Text(0, 0.5, 'probability')"
            ]
          },
          "metadata": {},
          "execution_count": 34
        },
        {
          "output_type": "display_data",
          "data": {
            "text/plain": [
              "<Figure size 640x480 with 1 Axes>"
            ],
            "image/png": "[encoded data removed]"
          },
          "metadata": {}
        }
      ]
    },
    {
      "cell_type": "markdown",
      "source": [
        "From the graph, we can see that the probalility of each random variable is almost equal."
      ],
      "metadata": {
        "id": "uqmVQTbcvqLm"
      }
    },
    {
      "cell_type": "markdown",
      "source": [
        "# Example No.2"
      ],
      "metadata": {
        "id": "QJU6NKAev8g7"
      }
    },
    {
      "cell_type": "markdown",
      "source": [
        "Let us suppose we roll two dice for 10000 times.Lets calculate the probability of sum of the random variable.\n",
        "\n",
        "Probaililty of each variable=1/36\n",
        "\n",
        "---\n",
        "\n",
        "\n",
        "Random vairable={1,2,3,4,5,6,7,8,9,10,11,12}"
      ],
      "metadata": {
        "id": "4OBtdgU7sbs_"
      }
    },
    {
      "cell_type": "code",
      "source": [
        "List=[]\n",
        "for i in range(10000):\n",
        "  Roll_1=random.randint(1,7)\n",
        "  Roll_2=random.randint(1,7)\n",
        "  List.append(Roll_1+Roll_2)#We sum the value of each roll and append the value in the list"
      ],
      "metadata": {
        "id": "eJgkFqFktBZ4"
      },
      "execution_count": null,
      "outputs": []
    },
    {
      "cell_type": "code",
      "source": [
        "List[:5]"
      ],
      "metadata": {
        "colab": {
          "base_uri": "https://localhost:8080/"
        },
        "id": "_xeD306xtZVm",
        "outputId": "e681e17e-d27e-4a51-ce0a-4ac7b83d7509"
      },
      "execution_count": null,
      "outputs": [
        {
          "output_type": "execute_result",
          "data": {
            "text/plain": [
              "[5, 11, 7, 8, 12]"
            ]
          },
          "metadata": {},
          "execution_count": 37
        }
      ]
    },
    {
      "cell_type": "code",
      "source": [
        "pd.Series(List).value_counts()"
      ],
      "metadata": {
        "colab": {
          "base_uri": "https://localhost:8080/",
          "height": 429
        },
        "id": "fC7EdgbjterN",
        "outputId": "d342f468-b30f-4bcf-cd57-4034c94cb933"
      },
      "execution_count": null,
      "outputs": [
        {
          "output_type": "execute_result",
          "data": {
            "text/plain": [
              "7     1646\n",
              "8     1406\n",
              "6     1386\n",
              "9     1127\n",
              "5     1119\n",
              "4      835\n",
              "10     801\n",
              "3      549\n",
              "11     542\n",
              "2      308\n",
              "12     281\n",
              "Name: count, dtype: int64"
            ],
            "text/html": [
              "<div>\n",
              "<style scoped>\n",
              "    .dataframe tbody tr th:only-of-type {\n",
              "        vertical-align: middle;\n",
              "    }\n",
              "\n",
              "    .dataframe tbody tr th {\n",
              "        vertical-align: top;\n",
              "    }\n",
              "\n",
              "    .dataframe thead th {\n",
              "        text-align: right;\n",
              "    }\n",
              "</style>\n",
              "<table border=\"1\" class=\"dataframe\">\n",
              "  <thead>\n",
              "    <tr style=\"text-align: right;\">\n",
              "      <th></th>\n",
              "      <th>count</th>\n",
              "    </tr>\n",
              "  </thead>\n",
              "  <tbody>\n",
              "    <tr>\n",
              "      <th>7</th>\n",
              "      <td>1646</td>\n",
              "    </tr>\n",
              "    <tr>\n",
              "      <th>8</th>\n",
              "      <td>1406</td>\n",
              "    </tr>\n",
              "    <tr>\n",
              "      <th>6</th>\n",
              "      <td>1386</td>\n",
              "    </tr>\n",
              "    <tr>\n",
              "      <th>9</th>\n",
              "      <td>1127</td>\n",
              "    </tr>\n",
              "    <tr>\n",
              "      <th>5</th>\n",
              "      <td>1119</td>\n",
              "    </tr>\n",
              "    <tr>\n",
              "      <th>4</th>\n",
              "      <td>835</td>\n",
              "    </tr>\n",
              "    <tr>\n",
              "      <th>10</th>\n",
              "      <td>801</td>\n",
              "    </tr>\n",
              "    <tr>\n",
              "      <th>3</th>\n",
              "      <td>549</td>\n",
              "    </tr>\n",
              "    <tr>\n",
              "      <th>11</th>\n",
              "      <td>542</td>\n",
              "    </tr>\n",
              "    <tr>\n",
              "      <th>2</th>\n",
              "      <td>308</td>\n",
              "    </tr>\n",
              "    <tr>\n",
              "      <th>12</th>\n",
              "      <td>281</td>\n",
              "    </tr>\n",
              "  </tbody>\n",
              "</table>\n",
              "</div><br><label><b>dtype:</b> int64</label>"
            ]
          },
          "metadata": {},
          "execution_count": 40
        }
      ]
    },
    {
      "cell_type": "code",
      "source": [
        "p=(pd.Series(List).value_counts()/pd.Series(List).value_counts().sum()).sort_index()\n",
        "p"
      ],
      "metadata": {
        "colab": {
          "base_uri": "https://localhost:8080/",
          "height": 429
        },
        "id": "ngbsPBS1t0DA",
        "outputId": "17009797-c255-4490-afba-2b2c4aa04a18"
      },
      "execution_count": null,
      "outputs": [
        {
          "output_type": "execute_result",
          "data": {
            "text/plain": [
              "2     0.0308\n",
              "3     0.0549\n",
              "4     0.0835\n",
              "5     0.1119\n",
              "6     0.1386\n",
              "7     0.1646\n",
              "8     0.1406\n",
              "9     0.1127\n",
              "10    0.0801\n",
              "11    0.0542\n",
              "12    0.0281\n",
              "Name: count, dtype: float64"
            ],
            "text/html": [
              "<div>\n",
              "<style scoped>\n",
              "    .dataframe tbody tr th:only-of-type {\n",
              "        vertical-align: middle;\n",
              "    }\n",
              "\n",
              "    .dataframe tbody tr th {\n",
              "        vertical-align: top;\n",
              "    }\n",
              "\n",
              "    .dataframe thead th {\n",
              "        text-align: right;\n",
              "    }\n",
              "</style>\n",
              "<table border=\"1\" class=\"dataframe\">\n",
              "  <thead>\n",
              "    <tr style=\"text-align: right;\">\n",
              "      <th></th>\n",
              "      <th>count</th>\n",
              "    </tr>\n",
              "  </thead>\n",
              "  <tbody>\n",
              "    <tr>\n",
              "      <th>2</th>\n",
              "      <td>0.0308</td>\n",
              "    </tr>\n",
              "    <tr>\n",
              "      <th>3</th>\n",
              "      <td>0.0549</td>\n",
              "    </tr>\n",
              "    <tr>\n",
              "      <th>4</th>\n",
              "      <td>0.0835</td>\n",
              "    </tr>\n",
              "    <tr>\n",
              "      <th>5</th>\n",
              "      <td>0.1119</td>\n",
              "    </tr>\n",
              "    <tr>\n",
              "      <th>6</th>\n",
              "      <td>0.1386</td>\n",
              "    </tr>\n",
              "    <tr>\n",
              "      <th>7</th>\n",
              "      <td>0.1646</td>\n",
              "    </tr>\n",
              "    <tr>\n",
              "      <th>8</th>\n",
              "      <td>0.1406</td>\n",
              "    </tr>\n",
              "    <tr>\n",
              "      <th>9</th>\n",
              "      <td>0.1127</td>\n",
              "    </tr>\n",
              "    <tr>\n",
              "      <th>10</th>\n",
              "      <td>0.0801</td>\n",
              "    </tr>\n",
              "    <tr>\n",
              "      <th>11</th>\n",
              "      <td>0.0542</td>\n",
              "    </tr>\n",
              "    <tr>\n",
              "      <th>12</th>\n",
              "      <td>0.0281</td>\n",
              "    </tr>\n",
              "  </tbody>\n",
              "</table>\n",
              "</div><br><label><b>dtype:</b> float64</label>"
            ]
          },
          "metadata": {},
          "execution_count": 41
        }
      ]
    },
    {
      "cell_type": "code",
      "source": [
        "p.plot(kind=\"bar\")\n",
        "plt.xlabel(\"random variable\")\n",
        "plt.ylabel(\"probability\")\n",
        "plt.show()"
      ],
      "metadata": {
        "colab": {
          "base_uri": "https://localhost:8080/",
          "height": 453
        },
        "id": "JUHmV16Lt8Mf",
        "outputId": "1c0749e7-2c41-4268-9fae-7107b42fcd10"
      },
      "execution_count": null,
      "outputs": [
        {
          "output_type": "display_data",
          "data": {
            "text/plain": [
              "<Figure size 640x480 with 1 Axes>"
            ],
            "image/png": "[encoded data removed]"
          },
          "metadata": {}
        }
      ]
    },
    {
      "cell_type": "markdown",
      "source": [
        "From the plot, we can see that the problility of coming the value \"7\" is the greatest, when we sum the two value after rolling the two dice at a time."
      ],
      "metadata": {
        "id": "fdfX2umjuuMI"
      }
    },
    {
      "cell_type": "markdown",
      "source": [
        "# Probability Density Function\n",
        "It is the mathematical function that describes the probablity of continuous random variable"
      ],
      "metadata": {
        "id": "TnwYistH1L4Z"
      }
    },
    {
      "cell_type": "code",
      "source": [
        "values=random.normal(loc=50,scale=5,size=1000)\n"
      ],
      "metadata": {
        "id": "200B_5qk1WPP"
      },
      "execution_count": null,
      "outputs": []
    },
    {
      "cell_type": "code",
      "source": [
        "import seaborn as sns\n",
        "sns.distplot(values)\n",
        "plt.xlabel(\"random variable\")"
      ],
      "metadata": {
        "colab": {
          "base_uri": "https://localhost:8080/",
          "height": 657
        },
        "id": "myRzt1Qo13j7",
        "outputId": "a0459915-b2a9-4586-ba10-c039e2eb2282"
      },
      "execution_count": null,
      "outputs": [
        {
          "output_type": "stream",
          "name": "stderr",
          "text": [
            "<ipython-input-57-102339286601>:2: UserWarning: \n",
            "\n",
            "`distplot` is a deprecated function and will be removed in seaborn v0.14.0.\n",
            "\n",
            "Please adapt your code to use either `displot` (a figure-level function with\n",
            "similar flexibility) or `histplot` (an axes-level function for histograms).\n",
            "\n",
            "For a guide to updating your code to use the new functions, please see\n",
            "https://gist.github.com/mwaskom/de44147ed2974457ad6372750bbe5751\n",
            "\n",
            "  sns.distplot(values)\n"
          ]
        },
        {
          "output_type": "execute_result",
          "data": {
            "text/plain": [
              "Text(0.5, 0, 'random variable')"
            ]
          },
          "metadata": {},
          "execution_count": 57
        },
        {
          "output_type": "display_data",
          "data": {
            "text/plain": [
              "<Figure size 640x480 with 1 Axes>"
            ],
            "image/png": "[encoded data removed]"
          },
          "metadata": {}
        }
      ]
    },
    {
      "cell_type": "code",
      "source": [],
      "metadata": {
        "id": "sGa5AKT82GEZ"
      },
      "execution_count": null,
      "outputs": []
    },
    {
      "cell_type": "markdown",
      "source": [
        "# Note\n",
        "1.y axis represent the probability density, not probability\n",
        "\n",
        "---\n",
        "\n",
        "\n",
        "2.Area under the curve represents the probability"
      ],
      "metadata": {
        "id": "NlUDG81p2zhI"
      }
    },
    {
      "cell_type": "code",
      "source": [],
      "metadata": {
        "id": "VhchKS1p3DSa"
      },
      "execution_count": null,
      "outputs": []
    },
    {
      "cell_type": "markdown",
      "source": [
        "# Why y axis called probability density not probability?\n",
        "Since, in the x-axis, we have infinte value. So, the probability of particular value on x aixis is very close to zero."
      ],
      "metadata": {
        "id": "PZKDF4na3REl"
      }
    },
    {
      "cell_type": "markdown",
      "source": [
        "# Cumulative Distribution Function\n",
        "It is the mathematic function that describes the probability that a random variable X with a given probability distribution will be found at a value less than or equal to x\n",
        "\n",
        "F(x)=P(X<=x) where x is the value and X is the random variable"
      ],
      "metadata": {
        "id": "DgTpZc4x4HAv"
      }
    },
    {
      "cell_type": "markdown",
      "source": [
        "# Probability distribution"
      ],
      "metadata": {
        "id": "AF91l2K2tUAb"
      }
    },
    {
      "cell_type": "markdown",
      "source": [],
      "metadata": {
        "id": "ByQvDf_h2aCj"
      }
    },
    {
      "cell_type": "code",
      "source": [],
      "metadata": {
        "id": "LBrZoX_PtYKT"
      },
      "execution_count": null,
      "outputs": []
    },
    {
      "cell_type": "markdown",
      "source": [
        "#Some important probability distribution are"
      ],
      "metadata": {
        "id": "c0n8cJc8tag_"
      }
    },
    {
      "cell_type": "code",
      "source": [],
      "metadata": {
        "id": "c_iI__BCtgJB"
      },
      "execution_count": null,
      "outputs": []
    },
    {
      "cell_type": "markdown",
      "source": [
        "# 1.Normal distribution\n",
        "Normal distribution is the probability distribution in which most of the data lies in the middle region and is symmetrical from the mean.\n",
        "\n",
        "---\n",
        "\n",
        "\n",
        "In normal distribution, the curve looks like a bell shape and the mean is zero and standard deviation is 1.\n",
        "\n",
        "---\n",
        "\n",
        "\n",
        "Prameter for normal distribution : mean(loc), standard deviation(scale)\n",
        "\n",
        "# Simple normal distribution example"
      ],
      "metadata": {
        "id": "Heph3Iymtg5C"
      }
    },
    {
      "cell_type": "code",
      "source": [
        "from numpy import random\n",
        "import matplotlib.pyplot as plt\n",
        "import seaborn as sns\n",
        "sns.distplot(random.normal(loc=10,scale=2, size=1000), hist=False)"
      ],
      "metadata": {
        "colab": {
          "base_uri": "https://localhost:8080/",
          "height": 638
        },
        "id": "PbM3SerNuZRt",
        "outputId": "61036b52-0ae9-4ec0-9e8e-816a2ce06323"
      },
      "execution_count": null,
      "outputs": [
        {
          "output_type": "stream",
          "name": "stderr",
          "text": [
            "<ipython-input-6-3901b76ce7c4>:4: UserWarning: \n",
            "\n",
            "`distplot` is a deprecated function and will be removed in seaborn v0.14.0.\n",
            "\n",
            "Please adapt your code to use either `displot` (a figure-level function with\n",
            "similar flexibility) or `kdeplot` (an axes-level function for kernel density plots).\n",
            "\n",
            "For a guide to updating your code to use the new functions, please see\n",
            "https://gist.github.com/mwaskom/de44147ed2974457ad6372750bbe5751\n",
            "\n",
            "  sns.distplot(random.normal(loc=10,scale=2, size=1000), hist=False)\n"
          ]
        },
        {
          "output_type": "execute_result",
          "data": {
            "text/plain": [
              "<Axes: ylabel='Density'>"
            ]
          },
          "metadata": {},
          "execution_count": 6
        },
        {
          "output_type": "display_data",
          "data": {
            "text/plain": [
              "<Figure size 640x480 with 1 Axes>"
            ],
            "image/png": "[encoded data removed]"
          },
          "metadata": {}
        }
      ]
    },
    {
      "cell_type": "markdown",
      "source": [
        "# 2.Binomial Distribution\n",
        "It is probablity distribution which probability of the situation that have only two possible outcome either sucess or failure\n",
        "\n",
        "---\n",
        "\n",
        "\n",
        "Things to be considered:\n",
        "\n",
        "---\n",
        "\n",
        "\n",
        "B- The outcome must be binary\n",
        "\n",
        "---\n",
        "\n",
        "\n",
        "I- The trails must be independent\n",
        "\n",
        "---\n",
        "\n",
        "\n",
        "N-There should be n numbers of trail\n",
        "\n",
        "---\n",
        "\n",
        "\n",
        "S-The probaility of each trail must be same\n",
        "\n",
        "# Example of Binomial distribution"
      ],
      "metadata": {
        "id": "kpAX92cNvrLe"
      }
    },
    {
      "cell_type": "markdown",
      "source": [
        "random.binomial(p=0.5,"
      ],
      "metadata": {
        "id": "n2CrWtEpwmw7"
      }
    },
    {
      "cell_type": "code",
      "source": [
        "s=random.binomial(p=0.5,n=100,size=10000)\n",
        "sns.distplot(s,hist=False)"
      ],
      "metadata": {
        "colab": {
          "base_uri": "https://localhost:8080/",
          "height": 638
        },
        "id": "YP9hg0__w6XX",
        "outputId": "03b864c5-0184-4d86-bcf1-7354ba7f2445"
      },
      "execution_count": null,
      "outputs": [
        {
          "output_type": "stream",
          "name": "stderr",
          "text": [
            "<ipython-input-26-86ac2a340d1e>:2: UserWarning: \n",
            "\n",
            "`distplot` is a deprecated function and will be removed in seaborn v0.14.0.\n",
            "\n",
            "Please adapt your code to use either `displot` (a figure-level function with\n",
            "similar flexibility) or `kdeplot` (an axes-level function for kernel density plots).\n",
            "\n",
            "For a guide to updating your code to use the new functions, please see\n",
            "https://gist.github.com/mwaskom/de44147ed2974457ad6372750bbe5751\n",
            "\n",
            "  sns.distplot(s,hist=False)\n"
          ]
        },
        {
          "output_type": "execute_result",
          "data": {
            "text/plain": [
              "<Axes: ylabel='Density'>"
            ]
          },
          "metadata": {},
          "execution_count": 26
        },
        {
          "output_type": "display_data",
          "data": {
            "text/plain": [
              "<Figure size 640x480 with 1 Axes>"
            ],
            "image/png": "[encoded data removed]"
          },
          "metadata": {}
        }
      ]
    },
    {
      "cell_type": "code",
      "source": [],
      "metadata": {
        "id": "cs1-oThrxGuf"
      },
      "execution_count": null,
      "outputs": []
    },
    {
      "cell_type": "markdown",
      "source": [
        "# Real life example of Binomial Distribution\n",
        "Suppose you are tossing a coin for 100 time then calculate the probability of occuring 50 head."
      ],
      "metadata": {
        "id": "P2H5F-bwxzZz"
      }
    },
    {
      "cell_type": "code",
      "source": [
        "s=random.binomial(p=0.5,n=100,size=1)\n",
        "p=s/100 # p is probability\n",
        "print(p)\n",
        "# Suppose you repeat the process 500 times\n",
        "s=random.binomial(p=0.5,n=100,size=500)\n",
        "p=s/100 # p is probability\n",
        "print(p)\n",
        "sns.distplot(p)"
      ],
      "metadata": {
        "colab": {
          "base_uri": "https://localhost:8080/",
          "height": 1000
        },
        "id": "Aas1lgRryHzF",
        "outputId": "af66347b-15b3-411c-d4a8-b711003a44c2"
      },
      "execution_count": null,
      "outputs": [
        {
          "output_type": "stream",
          "name": "stdout",
          "text": [
            "[0.39]\n",
            "[0.46 0.49 0.55 0.47 0.55 0.46 0.52 0.55 0.51 0.52 0.5  0.54 0.47 0.44\n",
            " 0.51 0.46 0.48 0.48 0.53 0.51 0.46 0.48 0.5  0.51 0.43 0.43 0.48 0.52\n",
            " 0.49 0.48 0.53 0.46 0.48 0.38 0.56 0.55 0.49 0.47 0.51 0.49 0.49 0.45\n",
            " 0.44 0.49 0.71 0.39 0.43 0.47 0.41 0.36 0.48 0.5  0.49 0.53 0.46 0.43\n",
            " 0.39 0.41 0.5  0.54 0.46 0.43 0.56 0.46 0.57 0.59 0.54 0.57 0.54 0.44\n",
            " 0.6  0.47 0.52 0.56 0.52 0.41 0.58 0.5  0.49 0.5  0.49 0.48 0.46 0.54\n",
            " 0.5  0.47 0.54 0.49 0.46 0.49 0.55 0.57 0.43 0.53 0.46 0.46 0.52 0.46\n",
            " 0.47 0.48 0.46 0.45 0.46 0.46 0.51 0.5  0.52 0.53 0.5  0.52 0.5  0.52\n",
            " 0.44 0.56 0.54 0.45 0.51 0.47 0.44 0.53 0.45 0.48 0.5  0.44 0.55 0.51\n",
            " 0.56 0.47 0.49 0.52 0.61 0.49 0.4  0.5  0.54 0.5  0.5  0.55 0.45 0.49\n",
            " 0.49 0.56 0.54 0.5  0.48 0.47 0.48 0.51 0.6  0.59 0.43 0.5  0.47 0.46\n",
            " 0.45 0.55 0.59 0.56 0.53 0.48 0.55 0.53 0.56 0.38 0.42 0.6  0.41 0.56\n",
            " 0.52 0.41 0.47 0.56 0.51 0.59 0.49 0.6  0.53 0.48 0.51 0.45 0.51 0.43\n",
            " 0.36 0.5  0.56 0.52 0.51 0.5  0.55 0.54 0.42 0.51 0.53 0.47 0.45 0.5\n",
            " 0.44 0.37 0.41 0.5  0.45 0.39 0.54 0.57 0.53 0.47 0.53 0.41 0.54 0.5\n",
            " 0.5  0.5  0.5  0.55 0.47 0.43 0.52 0.47 0.47 0.51 0.48 0.49 0.45 0.56\n",
            " 0.56 0.47 0.52 0.52 0.55 0.58 0.49 0.5  0.51 0.54 0.47 0.54 0.53 0.47\n",
            " 0.53 0.47 0.48 0.42 0.57 0.64 0.61 0.5  0.5  0.62 0.46 0.44 0.58 0.57\n",
            " 0.59 0.43 0.49 0.46 0.49 0.51 0.47 0.51 0.47 0.49 0.48 0.56 0.48 0.51\n",
            " 0.48 0.56 0.44 0.54 0.47 0.54 0.51 0.52 0.56 0.55 0.52 0.49 0.47 0.43\n",
            " 0.45 0.5  0.57 0.61 0.55 0.53 0.54 0.44 0.54 0.46 0.56 0.53 0.42 0.45\n",
            " 0.5  0.53 0.47 0.52 0.48 0.46 0.47 0.56 0.5  0.51 0.5  0.56 0.48 0.49\n",
            " 0.45 0.45 0.39 0.55 0.58 0.53 0.63 0.5  0.53 0.54 0.45 0.48 0.47 0.46\n",
            " 0.55 0.57 0.49 0.52 0.46 0.54 0.52 0.55 0.45 0.59 0.61 0.5  0.45 0.5\n",
            " 0.55 0.49 0.54 0.53 0.52 0.46 0.55 0.42 0.51 0.4  0.51 0.45 0.48 0.45\n",
            " 0.46 0.5  0.53 0.55 0.46 0.44 0.47 0.46 0.52 0.53 0.45 0.5  0.49 0.48\n",
            " 0.41 0.55 0.51 0.45 0.52 0.52 0.49 0.51 0.45 0.48 0.5  0.53 0.5  0.48\n",
            " 0.44 0.54 0.51 0.44 0.46 0.52 0.43 0.47 0.54 0.51 0.55 0.49 0.48 0.51\n",
            " 0.5  0.43 0.49 0.47 0.53 0.54 0.42 0.49 0.45 0.47 0.52 0.53 0.44 0.5\n",
            " 0.52 0.49 0.4  0.52 0.46 0.51 0.5  0.58 0.51 0.43 0.52 0.54 0.47 0.49\n",
            " 0.53 0.45 0.43 0.5  0.46 0.52 0.51 0.53 0.51 0.4  0.54 0.4  0.49 0.51\n",
            " 0.45 0.49 0.43 0.53 0.55 0.45 0.47 0.54 0.54 0.48 0.49 0.45 0.57 0.48\n",
            " 0.5  0.54 0.46 0.5  0.67 0.58 0.54 0.56 0.51 0.55 0.42 0.45 0.49 0.59\n",
            " 0.46 0.41 0.46 0.5  0.56 0.44 0.54 0.51 0.44 0.5  0.61 0.55 0.59 0.46\n",
            " 0.58 0.42 0.54 0.56 0.45 0.49 0.45 0.5  0.54 0.52 0.59 0.49 0.48 0.55\n",
            " 0.53 0.5  0.55 0.49 0.54 0.56 0.52 0.5  0.46 0.39]\n"
          ]
        },
        {
          "output_type": "stream",
          "name": "stderr",
          "text": [
            "<ipython-input-14-06135604aa1a>:8: UserWarning: \n",
            "\n",
            "`distplot` is a deprecated function and will be removed in seaborn v0.14.0.\n",
            "\n",
            "Please adapt your code to use either `displot` (a figure-level function with\n",
            "similar flexibility) or `histplot` (an axes-level function for histograms).\n",
            "\n",
            "For a guide to updating your code to use the new functions, please see\n",
            "https://gist.github.com/mwaskom/de44147ed2974457ad6372750bbe5751\n",
            "\n",
            "  sns.distplot(p)\n"
          ]
        },
        {
          "output_type": "execute_result",
          "data": {
            "text/plain": [
              "<Axes: ylabel='Density'>"
            ]
          },
          "metadata": {},
          "execution_count": 14
        },
        {
          "output_type": "display_data",
          "data": {
            "text/plain": [
              "<Figure size 640x480 with 1 Axes>"
            ],
            "image/png": "[encoded data removed]"
          },
          "metadata": {}
        }
      ]
    },
    {
      "cell_type": "code",
      "source": [],
      "metadata": {
        "id": "vQVtMfzc8At5"
      },
      "execution_count": null,
      "outputs": []
    },
    {
      "cell_type": "code",
      "source": [],
      "metadata": {
        "id": "oRObW2EHyViN"
      },
      "execution_count": null,
      "outputs": []
    },
    {
      "cell_type": "markdown",
      "source": [
        "# Poisson Distribution\n",
        "It is the probability distribution which measure how many times an event occurs in a specific period of time.\n",
        "\n",
        "---\n",
        "\n",
        "\n",
        "Parameter for Poison distribution\n",
        "1. mean(lam)\n",
        "2. x=number of event which probability we want to measure\n",
        "---\n",
        "\n"
      ],
      "metadata": {
        "id": "6wFrDy2szG-j"
      }
    },
    {
      "cell_type": "code",
      "source": [
        "p=random.poisson(lam=100,size=500)\n",
        "p=p/100\n",
        "sns.distplot(p)\n"
      ],
      "metadata": {
        "colab": {
          "base_uri": "https://localhost:8080/",
          "height": 638
        },
        "id": "j5xo9INxzJ3j",
        "outputId": "8ab28c18-8e91-43e9-eb62-8ca12cecbe44"
      },
      "execution_count": null,
      "outputs": [
        {
          "output_type": "stream",
          "name": "stderr",
          "text": [
            "<ipython-input-25-a72263f50aea>:3: UserWarning: \n",
            "\n",
            "`distplot` is a deprecated function and will be removed in seaborn v0.14.0.\n",
            "\n",
            "Please adapt your code to use either `displot` (a figure-level function with\n",
            "similar flexibility) or `histplot` (an axes-level function for histograms).\n",
            "\n",
            "For a guide to updating your code to use the new functions, please see\n",
            "https://gist.github.com/mwaskom/de44147ed2974457ad6372750bbe5751\n",
            "\n",
            "  sns.distplot(p)\n"
          ]
        },
        {
          "output_type": "execute_result",
          "data": {
            "text/plain": [
              "<Axes: ylabel='Density'>"
            ]
          },
          "metadata": {},
          "execution_count": 25
        },
        {
          "output_type": "display_data",
          "data": {
            "text/plain": [
              "<Figure size 640x480 with 1 Axes>"
            ],
            "image/png": "[encoded data removed]"
          },
          "metadata": {}
        }
      ]
    },
    {
      "cell_type": "code",
      "source": [],
      "metadata": {
        "id": "07PQAsDJ0c03"
      },
      "execution_count": null,
      "outputs": []
    },
    {
      "cell_type": "markdown",
      "source": [
        "Suppose in the time period of 6pm to 8pm, 100 accident happens in kathmandu in averge. Calcuate, the probalility of occuring 50 accidents in any day in the same time period"
      ],
      "metadata": {
        "id": "JYi1npWb2ceV"
      }
    },
    {
      "cell_type": "code",
      "source": [
        "\n",
        "import scipy.stats as stats"
      ],
      "metadata": {
        "id": "sfxQjW5A29pY"
      },
      "execution_count": null,
      "outputs": []
    },
    {
      "cell_type": "code",
      "source": [
        "P=stats.poisson.cdf(k=50,mu=100)\n",
        "P\n"
      ],
      "metadata": {
        "colab": {
          "base_uri": "https://localhost:8080/"
        },
        "id": "cBg6IpLS3XYb",
        "outputId": "9ee65a5d-6de1-47b0-a01a-e1441c364196"
      },
      "execution_count": null,
      "outputs": [
        {
          "output_type": "execute_result",
          "data": {
            "text/plain": [
              "2.4015922356168933e-08"
            ]
          },
          "metadata": {},
          "execution_count": 3
        }
      ]
    },
    {
      "cell_type": "code",
      "source": [],
      "metadata": {
        "id": "X457ibZP3oYS"
      },
      "execution_count": null,
      "outputs": []
    }
  ]
}